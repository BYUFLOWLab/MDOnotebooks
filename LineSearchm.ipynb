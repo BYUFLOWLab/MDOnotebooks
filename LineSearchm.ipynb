{
 "cells": [
  {
   "cell_type": "code",
   "execution_count": 24,
   "metadata": {
    "collapsed": false
   },
   "outputs": [],
   "source": [
    "% ignore - internal setup\n",
    "path('../scripts/refrig_line', path)\n",
    "set(0, 'DefaultLineLineWidth', 2)\n",
    "set(0, 'DefaultAxesFontSize', 14);"
   ]
  },
  {
   "cell_type": "markdown",
   "metadata": {},
   "source": [
    "# Bracketing Methods (Bisection example)\n",
    "\n",
    "Consider the refrigeration tank example from Belegundu and Chandrupatla [1].\n",
    "We want to minimize the cost of a cylindrical refrigeration tank that must have\n",
    "a volume of 50 m$^3$.\n",
    "The costs of the tank are\n",
    "- Circular ends cost \\$10 per m$^2$\n",
    "- Cylindrical walls cost \\$6 per m$^2$\n",
    "- Refrigerator costs \\$80 per m$^2$ over its life\n",
    "\n",
    "Let $d$ be the tank diameter, and $L$ the height.\n",
    "\n",
    "\\begin{align}\n",
    "  f &= 10  \\left(\\frac{2 \\pi d^2}{4}\\right) + 6 (\\pi d L) + 80 \\left( \\frac{2\n",
    "\\pi d^2}{4} + \\pi d L \\right)\\\\\n",
    "  &= 45 \\pi d^2 + 86 \\pi d L\n",
    "\\end{align}\n",
    "\n",
    "However, $L$ is a function of $d$ because the volume is constrained.  We could\n",
    "add a constraint to the problem\n",
    "\\begin{align}\n",
    "  \\frac{\\pi d^2}{4} L = V\n",
    "\\end{align}\n",
    "but it is easier to express $V$ as a function of $d$ and make the problem\n",
    "unconstrained.\n",
    "\\begin{align}\n",
    "  L &= \\frac{4 V}{\\pi d^2}\\\\\n",
    "  &= \\frac{200}{\\pi d^2}\n",
    "\\end{align}\n",
    "Thus the optimization can be expressed as\n",
    "\\begin{align}\n",
    "\\textrm{minimize} &\\quad 45 \\pi d^2 + \\frac{17200}{d}\\\\\n",
    "\\textrm{with respect to} &\\quad d \\\\\n",
    "\\textrm{subject to} &\\quad d \\ge 0\n",
    "\\end{align}\n",
    "\n",
    "One-dimensional optimization problems are silly of course, we can just find the\n",
    "minimum by looking at a plot.  However, we use a one-dimensional example to\n",
    "illustrate line searches.  A line search seeks an approximate minimum to a one-dimensional optimization problem within a N-dimensional space.\n",
    "\n",
    "We will use bisection to find the minimum of this function.  This is a recursive\n",
    "function.\n",
    "\n"
   ]
  },
  {
   "cell_type": "code",
   "execution_count": null,
   "metadata": {
    "collapsed": false
   },
   "outputs": [],
   "source": [
    "function [x, history] = bisection(x1, x2, f1, f2, fh, history)\n",
    "%{\n",
    "This function finds the minimum of a function using bisection.\n",
    "It can also easily be used to find the root of a function, \n",
    "but for simplicity we've not added that second case.\n",
    "Inputs:\n",
    "    x1: lower bound\n",
    "    x2: upper bound\n",
    "    f1: function (or gradient) at lower bound\n",
    "    f2: function (or gradient) at upper bound\n",
    "        f1 * f2 must be < 0.  Currently left up to the user to check.\n",
    "    fh: function handle.  should be of form [f, g] = fh(x)\n",
    "        where f is the funciton value and g = df/dx\n",
    "    history: input an empty array and the iteration history for the\n",
    "             mean value of x will be appended at each iteration\n",
    "Outputs:\n",
    "    x: new value for x\n",
    "    history: appended history array\n",
    "%}\n",
    "\n",
    "% new point at midpoint\n",
    "x = 0.5*(x1 + x2);\n",
    "\n",
    "% save iteration history\n",
    "history = [history, x];\n",
    "\n",
    "% check for convergence\n",
    "if (abs(x1 - x2) < 1e-6)  % simplistic check\n",
    "    return;\n",
    "end\n",
    "\n",
    "% evaluate function at new point\n",
    "% change to [f, ~] = fh(x) to make this a root solver (and input function\n",
    "% values instead of gradients\n",
    "[~, f] = fh(x);   % get new gradient value\n",
    "\n",
    "% determine which bracket to keep\n",
    "if (f*f1 < 0)\n",
    "    x2 = x;\n",
    "    f2 = f;\n",
    "else\n",
    "    x1 = x;\n",
    "    f1 = f;\n",
    "end\n",
    "\n",
    "% perform bisection on new bracket (recursive)\n",
    "[x, history] = bisection(x1, x2, f1, f2, fh, history);\n",
    "\n",
    "end"
   ]
  },
  {
   "cell_type": "markdown",
   "metadata": {},
   "source": [
    "We are interseted in optimization, so we don't want to find the root of our\n",
    "function, but rather the \"root\" of the derivative as a potential minimum point.\n",
    "Let's define our objectve function, its derivative, and solve for the minium."
   ]
  },
  {
   "cell_type": "code",
   "execution_count": null,
   "metadata": {
    "collapsed": true
   },
   "outputs": [],
   "source": [
    "function [f, g] = refrig(d)\n",
    "%{\n",
    "This function computes the cost of the cylindrical refrigeration tank\n",
    "as a function of diameter.\n",
    "Inputs:\n",
    "    d: diameter (m)\n",
    "Outputs:\n",
    "    f: cost ($)\n",
    "    g: gradient df/dd\n",
    "%}\n",
    "\n",
    "% function value\n",
    "f = 45*pi*d.^2 + 17200./d;\n",
    "\n",
    "% gradient\n",
    "g = 90*pi*d - 17200./d.^2;\n",
    "\n",
    "end"
   ]
  },
  {
   "cell_type": "code",
   "execution_count": 19,
   "metadata": {
    "collapsed": false
   },
   "outputs": [
    {
     "data": {
      "image/png": "[encoded data removed]",
      "text/plain": [
       "<IPython.core.display.Image object>"
      ]
     },
     "metadata": {},
     "output_type": "display_data"
    }
   ],
   "source": [
    "clear; close all;\n",
    "\n",
    "% pick intial bracket on diameters\n",
    "d1 = 1;\n",
    "d2 = 10;\n",
    "\n",
    "% evalaute function\n",
    "[f1, g1] = refrig(d1);\n",
    "[f2, g2] = refrig(d2);\n",
    "\n",
    "% check that our bracket is ok\n",
    "assert(g1*g2 < 0);\n",
    "\n",
    "% find optimal point\n",
    "dhist = [];\n",
    "[dopt, dhist] = bisection(d1, d2, g1, g2, @refrig, dhist);\n",
    "\n",
    "% plot function\n",
    "dvec = linspace(d1, d2, 200);\n",
    "figure(); hold on;\n",
    "plot(dvec, refrig(dvec)/1e3);\n",
    "plot(dopt, refrig(dopt)/1e3, 'r*');\n",
    "xlabel('diameter (m)');\n",
    "ylabel('cost (thousands of dollars)'); "
   ]
  },
  {
   "cell_type": "code",
   "execution_count": 20,
   "metadata": {
    "collapsed": false
   },
   "outputs": [
    {
     "data": {
      "image/png": "[encoded data removed]",
      "text/plain": [
       "<IPython.core.display.Image object>"
      ]
     },
     "metadata": {},
     "output_type": "display_data"
    }
   ],
   "source": [
    "% plot convergence history\n",
    "error = abs(dhist(1:end-1) - dhist(2:end))./(abs(dhist(2:end)));\n",
    "\n",
    "figure();\n",
    "semilogy(error);  % note use of semilog\n",
    "xlabel('iteration');\n",
    "ylabel('normalized error');\n",
    "box('off')"
   ]
  },
  {
   "cell_type": "markdown",
   "metadata": {},
   "source": [
    "Note the linear convergence behavior."
   ]
  },
  {
   "cell_type": "markdown",
   "metadata": {},
   "source": [
    "[1] Belegundu, A. D. and Chandrupatla, T. R., Optimization Concepts and Applications in Engineering, Cambridge University Press, Mar 2011."
   ]
  },
  {
   "cell_type": "code",
   "execution_count": null,
   "metadata": {
    "collapsed": true
   },
   "outputs": [],
   "source": []
  }
 ],
 "metadata": {
  "anaconda-cloud": {},
  "kernelspec": {
   "display_name": "Matlab",
   "language": "matlab",
   "name": "matlab"
  },
  "language_info": {
   "codemirror_mode": "octave",
   "file_extension": ".m",
   "help_links": [
    {
     "text": "MetaKernel Magics",
     "url": "https://github.com/calysto/metakernel/blob/master/metakernel/magics/README.md"
    }
   ],
   "mimetype": "text/x-matlab",
   "name": "matlab",
   "version": "0.11.0+12.g6d57d52"
  }
 },
 "nbformat": 4,
 "nbformat_minor": 2
}
