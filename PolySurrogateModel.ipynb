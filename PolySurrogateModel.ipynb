{
 "cells": [
  {
   "cell_type": "markdown",
   "metadata": {},
   "source": [
    "# Polynomial Surrogate Model\n",
    "\n",
    "Consider a simple underlying function with Gaussian noise added to simulate experimental or noisy computational data.\n",
    "\n",
    "$$y = 3x^2 + 2x + 1 + \\mathcal{N}(0, \\sigma), \\text{ where } \\sigma = 1$$\n",
    "\n",
    "We will create the data at 20 points between $-2 \\ldots 2$."
   ]
  },
  {
   "cell_type": "code",
   "execution_count": 2,
   "metadata": {
    "collapsed": false
   },
   "outputs": [
    {
     "data": {
      "image/png": "[encoded data removed]",
      "text/plain": [
       "<matplotlib.figure.Figure at 0x104133ad0>"
      ]
     },
     "metadata": {},
     "output_type": "display_data"
    }
   ],
   "source": [
    "%matplotlib inline\n",
    "\n",
    "import numpy as np\n",
    "import matplotlib.pyplot as plt\n",
    "\n",
    "n = 20\n",
    "sigma = 1.0\n",
    "xdata = np.linspace(-2, 2, n)\n",
    "fdata = 3*xdata**2 + 2*xdata + 1 + np.random.randn(n)*sigma\n",
    "\n",
    "plt.figure()\n",
    "plt.plot(xdata, fdata, 'o')\n",
    "plt.xlabel('x')\n",
    "plt.ylabel('f')\n",
    "plt.show()"
   ]
  },
  {
   "cell_type": "markdown",
   "metadata": {},
   "source": [
    "This data is our training data and consists of two pairs: $(x^{(i)}, f^{(i)})$.  Given this data, we want to compute a polynomial fit.  In this case, we know that it's quadratic, so let's use a quadratic model of the form:\n",
    "\n",
    "$$\\hat{f}(x) = a x^2 + b x + c$$\n",
    "\n",
    "This is a simple least squares problem.\n",
    "\n",
    "$$\\text{minimize} \\sum_i \\left(\\hat{f}(x^{(i)}) - f^{(i)} \\right)^2 $$\n",
    "\n",
    "Which we can rewrite in matrix form as:\n",
    "\n",
    "$$\\text{minimize} \\; || \\Psi w - f ||^2 $$\n",
    "\n",
    "where\n",
    "\n",
    "$$\n",
    "\\Psi = \n",
    "\\begin{bmatrix}\n",
    "\\text{---} & \\psi(x^{(1)})^T & \\text{---} \\\\\n",
    "\\text{---} & \\psi(x^{(2)})^T & \\text{---} \\\\\n",
    "& \\vdots \\\\\n",
    "\\text{---} & \\psi(x^{(n)})^T & \\text{---} \\\\\n",
    "\\end{bmatrix}\n",
    "$$\n",
    "\n",
    "$$\n",
    "f = \\begin{bmatrix}\n",
    "f^{(1)}\\\\\n",
    "f^{(2)}\\\\\n",
    "\\vdots \\\\\n",
    "f^{(n)}\\\\\n",
    "\\end{bmatrix}\n",
    "$$\n",
    "\n",
    "In our specific case: $w = [a, b, c]$ and $\\psi = [x^2, x, 1]$.  The matrix equation can be solved as a least squares solution.  Notice that this simple form works in any number of dimensions (not just one). In higher dimensions we just add more terms to $\\psi$."
   ]
  },
  {
   "cell_type": "code",
   "execution_count": 3,
   "metadata": {
    "collapsed": false
   },
   "outputs": [
    {
     "name": "stdout",
     "output_type": "stream",
     "text": [
      "[ 2.95677362  2.08357032  0.82455735]\n"
     ]
    }
   ],
   "source": [
    "Psi = np.zeros((n, 3))\n",
    "Psi[:, 0] = xdata**2\n",
    "Psi[:, 1] = xdata\n",
    "Psi[:, 2] = 1\n",
    "\n",
    "w, residuals, rank, s = np.linalg.lstsq(Psi, fdata)\n",
    "\n",
    "print w"
   ]
  },
  {
   "cell_type": "markdown",
   "metadata": {},
   "source": [
    "Ideally w would be [3, 2, 1] bsaed on our underlying polynomial, but it won't recover that exactly because of the noise in the function."
   ]
  },
  {
   "cell_type": "markdown",
   "metadata": {},
   "source": [
    "We now have a polynomial model: $\\hat{f} = \\Psi w$ that we can evaluate at any point.  Let's compute at many locations along the domain and compare out fit:"
   ]
  },
  {
   "cell_type": "code",
   "execution_count": 4,
   "metadata": {
    "collapsed": false
   },
   "outputs": [
    {
     "data": {
      "image/png": "[encoded data removed]",
      "text/plain": [
       "<matplotlib.figure.Figure at 0x106499cd0>"
      ]
     },
     "metadata": {},
     "output_type": "display_data"
    }
   ],
   "source": [
    "nfull = 200\n",
    "xfull = np.linspace(-2, 2, nfull)\n",
    "Psifull = np.zeros((nfull, 3))\n",
    "Psifull[:, 0] = xfull**2\n",
    "Psifull[:, 1] = xfull\n",
    "Psifull[:, 2] = 1\n",
    "ffull = np.dot(Psifull, w)\n",
    "\n",
    "plt.figure()\n",
    "plt.plot(xdata, fdata, 'o')\n",
    "plt.plot(xfull, ffull, '--')\n",
    "plt.xlabel('x')\n",
    "plt.ylabel('f')\n",
    "plt.show()"
   ]
  },
  {
   "cell_type": "markdown",
   "metadata": {},
   "source": [
    "# Cross Validation\n",
    "\n",
    "Let's consider another simple function with Gaussian noise:\n",
    "\n",
    "$$f = (6x - 2)^2*\\sin(12 x - 4) + \\mathcal{N}(0, \\sigma)$$"
   ]
  },
  {
   "cell_type": "code",
   "execution_count": 5,
   "metadata": {
    "collapsed": false
   },
   "outputs": [
    {
     "data": {
      "image/png": "[encoded data removed]",
      "text/plain": [
       "<matplotlib.figure.Figure at 0x10668b550>"
      ]
     },
     "metadata": {},
     "output_type": "display_data"
    }
   ],
   "source": [
    "def func(x):\n",
    "    sigma = 1.0\n",
    "    return (6*x-2)**2*np.sin(12*x-4) + np.random.randn(len(x))*sigma\n",
    "\n",
    "\n",
    "# ---- create training data ---------\n",
    "ndata = 20\n",
    "xdata = np.linspace(0, 1, ndata)\n",
    "fdata = func(xdata)\n",
    "\n",
    "plt.plot(xdata, fdata, 'o')\n",
    "plt.xlabel('x')\n",
    "plt.ylabel('f')\n",
    "plt.show()"
   ]
  },
  {
   "cell_type": "markdown",
   "metadata": {},
   "source": [
    "Visually, it's harder to determine what the best order for the polynomial is.  Of course, in higher dimensions we cannot visualize the function and so generally won't know beforehand what terms to use in our polynomial model.  We will use cross validation to help us choose an appropriate order.  Below, we create a function to create and evaluate a polynomial for any order (in a 1D space):"
   ]
  },
  {
   "cell_type": "code",
   "execution_count": 6,
   "metadata": {
    "collapsed": true
   },
   "outputs": [],
   "source": [
    "def getPsi(x, order):\n",
    "    \n",
    "    n = len(x)\n",
    "    Psi = np.zeros((n, order+1))\n",
    "    for i in range(order+1):\n",
    "        Psi[:, i] = x**(order-i)\n",
    "        \n",
    "    return Psi\n",
    "\n",
    "\n",
    "def createpoly(x, f, order):\n",
    "    Psi = getPsi(x, order)\n",
    "    w, residuals, rank, s = np.linalg.lstsq(Psi, f)\n",
    "\n",
    "    return w\n",
    "\n",
    "\n",
    "def evalpoly(x, w):\n",
    "    order = len(w) - 1\n",
    "    Psi = getPsi(x, order)\n",
    "    f = np.dot(Psi, w)\n",
    "    \n",
    "    return f"
   ]
  },
  {
   "cell_type": "markdown",
   "metadata": {},
   "source": [
    "Let's try different polynomial orders and check to see what the error is in our fit."
   ]
  },
  {
   "cell_type": "code",
   "execution_count": 7,
   "metadata": {
    "collapsed": false
   },
   "outputs": [
    {
     "data": {
      "image/png": "[encoded data removed]",
      "text/plain": [
       "<matplotlib.figure.Figure at 0x1065b3a10>"
      ]
     },
     "metadata": {},
     "output_type": "display_data"
    }
   ],
   "source": [
    "ordervec = np.arange(1, 21)\n",
    "error = np.zeros(20)\n",
    "\n",
    "for idx, order in enumerate(ordervec):\n",
    "\n",
    "    # build a polynomial model from the training data \n",
    "    w = createpoly(xdata, fdata, order)\n",
    "\n",
    "    # test the error \n",
    "    fhat = evalpoly(xdata, w)\n",
    "    error[idx] = np.linalg.norm(fhat - fdata)\n",
    "\n",
    "\n",
    "# plot error\n",
    "plt.figure()\n",
    "plt.plot(ordervec, error, 'o')\n",
    "plt.xlabel('order of polynomial')\n",
    "plt.ylabel('error')\n",
    "plt.show()"
   ]
  },
  {
   "cell_type": "markdown",
   "metadata": {},
   "source": [
    "This suggests that the higher the order of the polynomial the better!  Of course we know that's not true.  Let's look at what the polynomial model looks like in 20 dimensions:"
   ]
  },
  {
   "cell_type": "code",
   "execution_count": 8,
   "metadata": {
    "collapsed": false
   },
   "outputs": [
    {
     "data": {
      "text/plain": [
       "<matplotlib.text.Text at 0x1068a8090>"
      ]
     },
     "execution_count": 8,
     "metadata": {},
     "output_type": "execute_result"
    },
    {
     "data": {
      "image/png": "[encoded data removed]",
      "text/plain": [
       "<matplotlib.figure.Figure at 0x1068c8b90>"
      ]
     },
     "metadata": {},
     "output_type": "display_data"
    }
   ],
   "source": [
    "order = 20\n",
    "w = createpoly(xdata, fdata, order)\n",
    "\n",
    "nhat = 200\n",
    "xhat = np.linspace(0, 1, nhat)\n",
    "fhat = evalpoly(xhat, w)\n",
    "\n",
    "plt.figure()\n",
    "plt.plot(xdata, fdata, 'o')\n",
    "plt.plot(xhat, fhat, '--')\n",
    "plt.ylim([-10, 20])\n",
    "plt.xlabel('x')\n",
    "plt.ylabel('f')"
   ]
  },
  {
   "cell_type": "markdown",
   "metadata": {},
   "source": [
    "We notice that the error at the points we are trying to fit is very small (which is what our least squares solution is doing), but the predictive capability of the model is very poor.  The reason for this issue is that we tested our model using the same points we used to train our model, so of course the error was low.  What we need to do instead is keep a separate set of training data and separate set of validation data to test how good the model is.  There are many methods to do this.  In this example, we use k-hold out cross validation."
   ]
  },
  {
   "cell_type": "code",
   "execution_count": 19,
   "metadata": {
    "collapsed": false
   },
   "outputs": [
    {
     "data": {
      "image/png": "[encoded data removed]",
      "text/plain": [
       "<matplotlib.figure.Figure at 0x106e64910>"
      ]
     },
     "metadata": {},
     "output_type": "display_data"
    },
    {
     "data": {
      "image/png": "[encoded data removed]",
      "text/plain": [
       "<matplotlib.figure.Figure at 0x106f6bbd0>"
      ]
     },
     "metadata": {},
     "output_type": "display_data"
    }
   ],
   "source": [
    "div = 10  # we will divide our data into div segments\n",
    "ndata = 20  # number of data points\n",
    "arrlength = ndata/div  # each segment should contain this much data\n",
    "idxrand = np.random.permutation(n)  # random index into data from 0 ... n\n",
    "\n",
    "error = np.zeros(len(ordervec))\n",
    "\n",
    "# iterate through polynomial orders\n",
    "for i, order in enumerate(ordervec):\n",
    "    \n",
    "    # iterate through divisions of data for k-holdout\n",
    "    for j in range(div):\n",
    "        \n",
    "        # indicies of data to leave out from the random permutations\n",
    "        holdout = idxrand[arrlength*j:arrlength*(j+1)]\n",
    "    \n",
    "        # separaet into training set and testing set\n",
    "        xtrain = np.delete(xdata, holdout)\n",
    "        ftrain = np.delete(fdata, holdout)\n",
    "        xtest = xdata[holdout]\n",
    "        ftest = fdata[holdout]\n",
    "           \n",
    "        # build a polynomial model from the training data \n",
    "        w = createpoly(xtrain, ftrain, order)\n",
    "\n",
    "        # test the error with the validation set\n",
    "        fhat = evalpoly(xtest, w)\n",
    "        error[i] += np.linalg.norm(fhat - ftest) / div  # average error across divisions\n",
    "        \n",
    "\n",
    "# plot error\n",
    "plt.figure()\n",
    "plt.plot(ordervec, error, 'o')\n",
    "plt.xlabel('order of polynomial')\n",
    "plt.ylabel('error')\n",
    "plt.show()\n",
    "\n",
    "# plot error\n",
    "plt.figure()\n",
    "plt.plot(ordervec, error, 'o')\n",
    "plt.xlabel('order of polynomial')\n",
    "plt.ylabel('error')\n",
    "plt.ylim([0, 25])\n",
    "plt.show()\n",
    "\n"
   ]
  },
  {
   "cell_type": "markdown",
   "metadata": {},
   "source": [
    "Both plots are the same, but the axis is smaller on the bottom one because the error blows up quickly.  Notice that now, instead of the error continualy decreasing, it decreases for a while then increases as we run into problems with overfitting.  Generally, we like to choose the simplest model that gives reasonable error.  The curve is pretty flat near the minimum, and in this case a good point is somewhere around a 4th order polynomial."
   ]
  },
  {
   "cell_type": "code",
   "execution_count": 20,
   "metadata": {
    "collapsed": false
   },
   "outputs": [
    {
     "data": {
      "text/plain": [
       "<matplotlib.text.Text at 0x106f8ed10>"
      ]
     },
     "execution_count": 20,
     "metadata": {},
     "output_type": "execute_result"
    },
    {
     "data": {
      "image/png": "[encoded data removed]",
      "text/plain": [
       "<matplotlib.figure.Figure at 0x106acb8d0>"
      ]
     },
     "metadata": {},
     "output_type": "display_data"
    }
   ],
   "source": [
    "order = 4\n",
    "w = createpoly(xdata, fdata, order)\n",
    "\n",
    "nhat = 200\n",
    "xhat = np.linspace(0, 1, nhat)\n",
    "fhat = evalpoly(xhat, w)\n",
    "\n",
    "plt.figure()\n",
    "plt.plot(xdata, fdata, 'o')\n",
    "plt.plot(xhat, fhat, '--')\n",
    "plt.ylim([-10, 20])\n",
    "plt.xlabel('x')\n",
    "plt.ylabel('f')"
   ]
  },
  {
   "cell_type": "markdown",
   "metadata": {},
   "source": [
    "We can see that this results in a much predictive model than the 20th order polynomial."
   ]
  }
 ],
 "metadata": {
  "kernelspec": {
   "display_name": "Python 2",
   "language": "python",
   "name": "python2"
  },
  "language_info": {
   "codemirror_mode": {
    "name": "ipython",
    "version": 2
   },
   "file_extension": ".py",
   "mimetype": "text/x-python",
   "name": "python",
   "nbconvert_exporter": "python",
   "pygments_lexer": "ipython2",
   "version": "2.7.11"
  }
 },
 "nbformat": 4,
 "nbformat_minor": 0
}
