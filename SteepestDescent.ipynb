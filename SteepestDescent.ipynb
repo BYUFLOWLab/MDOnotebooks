{
 "cells": [
  {
   "cell_type": "markdown",
   "metadata": {},
   "source": [
    "# Steepest Descent\n",
    "\n",
    "Consider a simple quadratic function of two variables,\n",
    "$$f(x)= x_1^2 + \\beta x_2^2$$\n",
    "\n",
    "The following figure shows the iterations for a steepest descent algorithm with\n",
    "exact line search.  All solutions start from the same starting point:\n",
    "$x_0=(10,1)$.  The parameter $\\beta$ controls the eccentricity of the quadratic\n",
    "function and can be changed in the slider."
   ]
  },
  {
   "cell_type": "code",
   "execution_count": 13,
   "metadata": {
    "collapsed": false
   },
   "outputs": [
    {
     "data": {
      "image/png": "[encoded data removed]",
      "text/plain": [
       "<matplotlib.figure.Figure at 0x11465b6d0>"
      ]
     },
     "metadata": {},
     "output_type": "display_data"
    },
    {
     "name": "stdout",
     "output_type": "stream",
     "text": [
      "iterations = 24\n"
     ]
    },
    {
     "data": {
      "text/plain": [
       "None"
      ]
     },
     "metadata": {},
     "output_type": "display_data"
    }
   ],
   "source": [
    "%matplotlib inline\n",
    "\n",
    "import numpy as np\n",
    "import matplotlib.pyplot as plt\n",
    "from scipy.optimize import brent\n",
    "from IPython.html.widgets import interact\n",
    "from __future__ import print_function\n",
    "\n",
    "\n",
    "def func(x, beta):\n",
    "    \"\"\"function to minimize\"\"\"\n",
    "    return x[0]**2 + beta*x[1]**2\n",
    "\n",
    "def grad(x, beta):\n",
    "    \"\"\"gradient of function\"\"\"\n",
    "    g = np.zeros(2)\n",
    "    g[0] = 2*x[0]\n",
    "    g[1] = 2*beta*x[1]\n",
    "    return g\n",
    "\n",
    "\n",
    "\n",
    "@interact(beta=(1.0, 15.0, 1.0))\n",
    "def steepestdescent(beta):\n",
    "    \"\"\"steepest descent with exact line search\"\"\"\n",
    "        \n",
    "    # evaluate on grid for plotting purposes\n",
    "    x1 = np.linspace(-12, 12, 100)\n",
    "    x2 = np.linspace(-12, 12, 100)\n",
    "    X1, X2 = np.meshgrid(x1, x2)\n",
    "    F = X1**2 + beta*X2**2\n",
    "\n",
    "    plt.figure()\n",
    "    plt.contour(X1, X2, F, cmap=plt.cm.get_cmap(\"gray\"))\n",
    "    \n",
    "    # initialize iteration history\n",
    "    x = [10, 1]\n",
    "    x1 = [x[0]]\n",
    "    x2 = [x[1]]\n",
    "\n",
    "    # initial step size and iteration count\n",
    "    alpha = 1.0  \n",
    "    \n",
    "    while True:  # continue until converged\n",
    "\n",
    "        # search direction along gradient\n",
    "        p = grad(x, beta)  \n",
    "        \n",
    "        # check convergence.  if grad is approx zero or step size is small.\n",
    "        if alpha < 0.01 or np.linalg.norm(p) < 1e-8:\n",
    "            break\n",
    "\n",
    "        # normalize search direction (unit vec) and head in descent direction\n",
    "        p = -p/np.linalg.norm(p)\n",
    "        \n",
    "        # find exact minimum along search direction (x + alpha*p) using Brent's method\n",
    "        # we could do a better job establishing a bracket, but this simple approach works fine for this example\n",
    "        alpha = brent(lambda alpha: func(x + alpha*p, beta), brack=(0.001, alpha/10.0, 100.0))\n",
    "        \n",
    "        # take step\n",
    "        x += alpha*p\n",
    "        \n",
    "        # save iteration\n",
    "        x1.append(x[0])\n",
    "        x2.append(x[1])\n",
    "\n",
    "    # plot iteration history\n",
    "    plt.plot(x1, x2, '-o')\n",
    "    plt.axes().set_aspect('equal')\n",
    "    plt.xlabel('$x_1$')\n",
    "    plt.ylabel('$x_2$')\n",
    "    plt.show()\n",
    "    \n",
    "    print('iterations =', len(x1)-1)"
   ]
  },
  {
   "cell_type": "code",
   "execution_count": null,
   "metadata": {
    "collapsed": true
   },
   "outputs": [],
   "source": []
  }
 ],
 "metadata": {
  "kernelspec": {
   "display_name": "Python 2",
   "language": "python",
   "name": "python2"
  },
  "language_info": {
   "codemirror_mode": {
    "name": "ipython",
    "version": 2
   },
   "file_extension": ".py",
   "mimetype": "text/x-python",
   "name": "python",
   "nbconvert_exporter": "python",
   "pygments_lexer": "ipython2",
   "version": "2.7.8"
  }
 },
 "nbformat": 4,
 "nbformat_minor": 0
}
