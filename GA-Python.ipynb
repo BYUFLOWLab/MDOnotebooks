{
 "cells": [
  {
   "cell_type": "markdown",
   "metadata": {},
   "source": [
    "# GA Python\n",
    "\n",
    "Here is a simple example of using a GA in Python using PyOptSparse and my wrapper available [here](https://github.com/BYUFLOWLab/pyoptsparsewrapper)."
   ]
  },
  {
   "cell_type": "code",
   "execution_count": 2,
   "metadata": {
    "collapsed": true
   },
   "outputs": [],
   "source": [
    "def rosen(x):\n",
    "\n",
    "    f = (1 - x[0])**2 + 100*(x[1] - x[0]**2)**2\n",
    "    c = []\n",
    "\n",
    "    return f, c"
   ]
  },
  {
   "cell_type": "markdown",
   "metadata": {},
   "source": [
    "Here is where we define the problem and choose an optimizer.  Various options exist, I've set a few, see documentation for details."
   ]
  },
  {
   "cell_type": "code",
   "execution_count": 3,
   "metadata": {
    "collapsed": false
   },
   "outputs": [],
   "source": [
    "from pyoptsparse import NSGA2\n",
    "\n",
    "# choose optimizer and define options\n",
    "optimizer = NSGA2()\n",
    "optimizer.setOption('maxGen', 200)\n",
    "optimizer.setOption('PopSize', 40)\n",
    "optimizer.setOption('pMut_real', 0.01)\n",
    "optimizer.setOption('pCross_real', 1.0)"
   ]
  },
  {
   "cell_type": "markdown",
   "metadata": {},
   "source": [
    "Now we can run the optimizer and parse the results."
   ]
  },
  {
   "cell_type": "code",
   "execution_count": 4,
   "metadata": {
    "collapsed": false
   },
   "outputs": [
    {
     "name": "stdout",
     "output_type": "stream",
     "text": [
      "results: [ 0.80973481  0.65449819] 0.0363382656261 {'code': {}, 'fcalls': 3396, 'time': 1.1790099143981934}\n"
     ]
    }
   ],
   "source": [
    "from pyoptwrapper import optimize\n",
    "\n",
    "x0 = [4.0, 4.0]\n",
    "lb = [-5.0, -5.0]\n",
    "ub = [5.0, 5.0]\n",
    "\n",
    "\n",
    "xopt, fopt, info = optimize(rosen, x0, lb, ub, optimizer)\n",
    "print 'results:', xopt, fopt, info"
   ]
  },
  {
   "cell_type": "markdown",
   "metadata": {
    "collapsed": true
   },
   "source": [
    "NSGA, like many genetic algorithms, doesn't have any speicific convergence criteria other than the maximum number of generations.  I set it at 200 in this case.  Notice that the answer is ok, but not super great.\n",
    "\n",
    "Let's also try with SNOPT and start fairly far away (and I won't supply gradients):"
   ]
  },
  {
   "cell_type": "code",
   "execution_count": 5,
   "metadata": {
    "collapsed": false
   },
   "outputs": [
    {
     "name": "stdout",
     "output_type": "stream",
     "text": [
      "results: [ 0.99969953  0.99939864] 9.03093498134e-08 {'code': {'text': 'optimality conditions satisfied', 'value': array([1], dtype=int32)}, 'fcalls': 122, 'time': 0.04616093635559082}\n"
     ]
    }
   ],
   "source": [
    "from pyoptsparse import SNOPT\n",
    "\n",
    "optimizer = SNOPT()\n",
    "\n",
    "xopt, fopt, info = optimize(rosen, x0, lb, ub, optimizer)\n",
    "print 'results:', xopt, fopt, info"
   ]
  },
  {
   "cell_type": "markdown",
   "metadata": {},
   "source": [
    "We have the answer to high precision, and its fast and repeatable.  For something that is differentiable a gradient-based method is preferable, but if the function space is fundamentally noisy, discrete, or highly multi-modal then a GA or other gradient-free method can be effective."
   ]
  },
  {
   "cell_type": "code",
   "execution_count": null,
   "metadata": {
    "collapsed": true
   },
   "outputs": [],
   "source": []
  }
 ],
 "metadata": {
  "kernelspec": {
   "display_name": "Python 2",
   "language": "python",
   "name": "python2"
  },
  "language_info": {
   "codemirror_mode": {
    "name": "ipython",
    "version": 2
   },
   "file_extension": ".py",
   "mimetype": "text/x-python",
   "name": "python",
   "nbconvert_exporter": "python",
   "pygments_lexer": "ipython2",
   "version": "2.7.8"
  }
 },
 "nbformat": 4,
 "nbformat_minor": 0
}
