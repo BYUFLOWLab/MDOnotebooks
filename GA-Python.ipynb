{
 "cells": [
  {
   "cell_type": "markdown",
   "metadata": {},
   "source": [
    "# GA Python\n",
    "\n",
    "Here is a simple example of using a GA in Python using PyOptSparse.  PyOptSparse uses input and output dictionaries for convenience when dealing with many different types of variables and constraints.  It's a bit inconvenient for simple functions like this, but useful for dealing with complex functions with many variables."
   ]
  },
  {
   "cell_type": "code",
   "execution_count": 2,
   "metadata": {
    "collapsed": true
   },
   "outputs": [],
   "source": [
    "def rosen(xdict):\n",
    "    x = xdict['x']\n",
    "\n",
    "    f = (1 - x[0])**2 + 100*(x[1] - x[0]**2)**2\n",
    "\n",
    "    funcs = {}\n",
    "    funcs['obj'] = f\n",
    "    funcs['con'] = []\n",
    "    fail = False\n",
    "\n",
    "    return funcs, fail"
   ]
  },
  {
   "cell_type": "markdown",
   "metadata": {},
   "source": [
    "Here is where we define the problem and choose an optimizer.  Various options exist, I've set a few, see documentation for details."
   ]
  },
  {
   "cell_type": "code",
   "execution_count": 6,
   "metadata": {
    "collapsed": false
   },
   "outputs": [],
   "source": [
    "from pyoptsparse import Optimization, NSGA2\n",
    "\n",
    "# setup problem\n",
    "dim = 2\n",
    "opt_prob = Optimization('rosenbrock', rosen)\n",
    "opt_prob.addObj('obj')  # use same name as before\n",
    "opt_prob.addVarGroup('x', dim, type='c', lower=-5.0, upper=5.0, value=4.0)  # value not used by NSGA\n",
    "\n",
    "# choose optimizer and define options\n",
    "nsga_opt = NSGA2()\n",
    "nsga_opt.setOption('maxGen', 100*dim)\n",
    "nsga_opt.setOption('PopSize', 20*dim)\n",
    "nsga_opt.setOption('pMut_real', 0.01)\n",
    "nsga_opt.setOption('pCross_real', 1.0)"
   ]
  },
  {
   "cell_type": "markdown",
   "metadata": {},
   "source": [
    "Now we can run the optimizer and parse the results."
   ]
  },
  {
   "cell_type": "code",
   "execution_count": 4,
   "metadata": {
    "collapsed": false
   },
   "outputs": [
    {
     "name": "stdout",
     "output_type": "stream",
     "text": [
      "[ 0.80973481  0.65449819] 0.0363382656261\n"
     ]
    }
   ],
   "source": [
    "sol = nsga_opt(opt_prob)\n",
    "\n",
    "xstar = sol.xStar['x']\n",
    "fstar, _ = rosen(sol.xStar)\n",
    "fstar = fstar['obj']\n",
    "print xstar, fstar"
   ]
  },
  {
   "cell_type": "markdown",
   "metadata": {
    "collapsed": true
   },
   "source": [
    "NSGA doesn't have any convergence criteria, other than the maximum number of generations.  I set it at 200 in this case.  Notice that we have a pretty good answer, but convergence is no very tight.\n",
    "\n",
    "Let's also try with SNOPT and start fairly far away (and I won't supply gradients):"
   ]
  },
  {
   "cell_type": "code",
   "execution_count": 8,
   "metadata": {
    "collapsed": false
   },
   "outputs": [
    {
     "name": "stdout",
     "output_type": "stream",
     "text": [
      "[ 1.00000076  1.00000152] 5.8876451256e-13\n"
     ]
    }
   ],
   "source": [
    "from pyoptsparse import SNOPT\n",
    "\n",
    "snopt = SNOPT()\n",
    "\n",
    "sol = snopt(opt_prob)\n",
    "xstar = sol.xStar['x']\n",
    "fstar, _ = rosen(sol.xStar)\n",
    "fstar = fstar['obj']\n",
    "print xstar, fstar"
   ]
  },
  {
   "cell_type": "markdown",
   "metadata": {},
   "source": [
    "We have the answer to high precision, and its fast and repeatable.  For something that is differentiable a gradient-based method is preferable, but if the function space is fundamentally noisy, discrete, or highly multi-modal then a GA or other gradient-free method can be effective."
   ]
  },
  {
   "cell_type": "code",
   "execution_count": null,
   "metadata": {
    "collapsed": true
   },
   "outputs": [],
   "source": []
  }
 ],
 "metadata": {
  "kernelspec": {
   "display_name": "Python 2",
   "language": "python",
   "name": "python2"
  },
  "language_info": {
   "codemirror_mode": {
    "name": "ipython",
    "version": 2
   },
   "file_extension": ".py",
   "mimetype": "text/x-python",
   "name": "python",
   "nbconvert_exporter": "python",
   "pygments_lexer": "ipython2",
   "version": "2.7.8"
  }
 },
 "nbformat": 4,
 "nbformat_minor": 0
}
