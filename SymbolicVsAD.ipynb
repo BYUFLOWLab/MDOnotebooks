{
 "cells": [
  {
   "cell_type": "markdown",
   "metadata": {},
   "source": [
    "# Symbolic Differentiation vs Automatic Differentiation\n",
    "\n",
    "Consider the function below that, at least computationally, is very simple."
   ]
  },
  {
   "cell_type": "code",
   "execution_count": 49,
   "metadata": {
    "collapsed": true
   },
   "outputs": [],
   "source": [
    "def func(x):\n",
    "    y = x\n",
    "    for i in range(10):\n",
    "        y = sin(x + y)\n",
    "\n",
    "    return y"
   ]
  },
  {
   "cell_type": "markdown",
   "metadata": {},
   "source": [
    "We can compute a derivative symbolically, but it is of course horrendous (see below).  Think of how much worse it would be if we chose a function with products, and/or iterated more than 10 times."
   ]
  },
  {
   "cell_type": "code",
   "execution_count": 50,
   "metadata": {
    "collapsed": false
   },
   "outputs": [
    {
     "name": "stdout",
     "output_type": "stream",
     "text": [
      "(((((((((2*cos(2*x) + 1)*cos(x + sin(2*x)) + 1)*cos(x + sin(x + sin(2*x))) + 1)*cos(x + sin(x + sin(x + sin(2*x)))) + 1)*cos(x + sin(x + sin(x + sin(x + sin(2*x))))) + 1)*cos(x + sin(x + sin(x + sin(x + sin(x + sin(2*x)))))) + 1)*cos(x + sin(x + sin(x + sin(x + sin(x + sin(x + sin(2*x))))))) + 1)*cos(x + sin(x + sin(x + sin(x + sin(x + sin(x + sin(x + sin(2*x)))))))) + 1)*cos(x + sin(x + sin(x + sin(x + sin(x + sin(x + sin(x + sin(x + sin(2*x))))))))) + 1)*cos(x + sin(x + sin(x + sin(x + sin(x + sin(x + sin(x + sin(x + sin(x + sin(2*x))))))))))\n"
     ]
    }
   ],
   "source": [
    "from sympy import diff, Symbol, sin\n",
    "from __future__ import print_function\n",
    "\n",
    "x = Symbol('x')\n",
    "dexp = diff(func(x), x)\n",
    "print(dexp)"
   ]
  },
  {
   "cell_type": "markdown",
   "metadata": {},
   "source": [
    "Even if we could somehow symbolically compute derivatives for our simulations, the result is terribly slow.  Let's evaluate this function 10 times and time how long it takes.  Of course in an optimization we would need to evaluate the gradient way more than 10 times, but I don't want to wait that long. We will just evaluate at the same point all 10 times because it doesn't really matter. Notice I'm not even timing the time it takes to generate the expression, we are assuming that is free.  "
   ]
  },
  {
   "cell_type": "code",
   "execution_count": 51,
   "metadata": {
    "collapsed": false
   },
   "outputs": [
    {
     "name": "stdout",
     "output_type": "stream",
     "text": [
      "time = 7.98072695732\n",
      "dfdx = 3.04145180189667\n"
     ]
    }
   ],
   "source": [
    "import time\n",
    "repeat = 10\n",
    "\n",
    "start_time = time.time()\n",
    "\n",
    "for i in range(repeat):\n",
    "    dfdx = dexp.evalf(subs={x: 0.1})\n",
    "\n",
    "t1 = time.time() - start_time\n",
    "\n",
    "print('time =', t1)\n",
    "print('dfdx =', dfdx)"
   ]
  },
  {
   "cell_type": "markdown",
   "metadata": {},
   "source": [
    "Let's compare with automatic differentiation, running at the same point 10 times as well."
   ]
  },
  {
   "cell_type": "code",
   "execution_count": 52,
   "metadata": {
    "collapsed": false
   },
   "outputs": [
    {
     "name": "stdout",
     "output_type": "stream",
     "text": [
      "time = 0.0112597942352\n",
      "dfdx = [ 3.0414518]\n"
     ]
    }
   ],
   "source": [
    "from algopy import UTPM, sin\n",
    "\n",
    "start_time = time.time()\n",
    "\n",
    "for i in range(repeat):\n",
    "    x_algopy = UTPM.init_jacobian(0.1)\n",
    "    y_algopy = func(x_algopy)\n",
    "    dfdx = UTPM.extract_jacobian(y_algopy)\n",
    "    \n",
    "t2 = time.time() - start_time\n",
    "\n",
    "print('time =', t2)\n",
    "print('dfdx =', dfdx)"
   ]
  },
  {
   "cell_type": "markdown",
   "metadata": {},
   "source": [
    "The ratio of time for symbolic differentiation as compared to automatic differentiation is:"
   ]
  },
  {
   "cell_type": "code",
   "execution_count": 53,
   "metadata": {
    "collapsed": false
   },
   "outputs": [
    {
     "name": "stdout",
     "output_type": "stream",
     "text": [
      "time ratio: 708.780888051\n"
     ]
    }
   ],
   "source": [
    "print('time ratio:', t1/t2)"
   ]
  },
  {
   "cell_type": "markdown",
   "metadata": {},
   "source": [
    "Note, it takes about 3 orders of magnitude more time to evaluate the derivatives of this function with a symbolic expression.  Imagine how much worse it would be with multiple dimensions, or more complex functions.  By contract, automatic differentiation scales well with a processing speed on the order of the original function call (assuming source code transformation, it's a bit slower for operator overloading as is used here)."
   ]
  }
 ],
 "metadata": {
  "kernelspec": {
   "display_name": "Python 2",
   "language": "python",
   "name": "python2"
  },
  "language_info": {
   "codemirror_mode": {
    "name": "ipython",
    "version": 2
   },
   "file_extension": ".py",
   "mimetype": "text/x-python",
   "name": "python",
   "nbconvert_exporter": "python",
   "pygments_lexer": "ipython2",
   "version": "2.7.8"
  }
 },
 "nbformat": 4,
 "nbformat_minor": 0
}
