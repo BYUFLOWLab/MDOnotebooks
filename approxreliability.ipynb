{
 "cells": [
  {
   "cell_type": "code",
   "execution_count": 1,
   "metadata": {
    "collapsed": false
   },
   "outputs": [],
   "source": [
    "% ignore - internal setup\n",
    "path('approx', path)\n",
    "set(0, 'DefaultLineLineWidth', 2)\n",
    "set(0, 'DefaultAxesFontSize', 14);"
   ]
  },
  {
   "cell_type": "markdown",
   "metadata": {},
   "source": [
    "# Approximate Reliability Methods\n",
    "\n",
    "Let's consider the following (very simple) optimization problem.  We made it simple intentionally so we could work the transmitted variance symbolically in class.\n",
    "\n",
    "\\begin{align*}\n",
    "\\text{min.} &\\quad 4x_1^2 + 2x_2^2 + x_3^2\\\\\n",
    "\\text{s.t.} &\\quad 6x_1 + 2x_2 + 4x_3 \\ge 12\\\\\n",
    " &\\quad x_1 - 4x_2 + 7x_3 \\le 10\n",
    "\\end{align*}\n",
    "\n",
    "We can rewrite the two constraints in standard form as:\n",
    "\\begin{align*}\n",
    "c_1(x) &=  -6x_1 - 2x_2 - 4x_3 + 12 \\le 0\\\\\n",
    "c_2(x) &= x_1 - 4x_2 + 7x_3 - 10 \\le 0\n",
    "\\end{align*}\n",
    "\n",
    "Let's create functions for the objective and the deterministic constraints.  Obtaining the derivatives is easy symbolically, so let's do that as well."
   ]
  },
  {
   "cell_type": "code",
   "execution_count": 2,
   "metadata": {
    "collapsed": true
   },
   "outputs": [],
   "source": [
    "%load approx/fun.m"
   ]
  },
  {
   "cell_type": "code",
   "execution_count": null,
   "metadata": {
    "collapsed": true
   },
   "outputs": [],
   "source": [
    "function [f, g] = fun(x)\n",
    "\n",
    "f = 4*x(1)^2 + 2*x(2)^2 + x(3)^2;\n",
    "\n",
    "g = [8*x(1); 4*x(2); 2*x(3)];\n",
    "\n",
    "end\n"
   ]
  },
  {
   "cell_type": "code",
   "execution_count": 3,
   "metadata": {
    "collapsed": true
   },
   "outputs": [],
   "source": [
    "%load approx/dcon.m"
   ]
  },
  {
   "cell_type": "code",
   "execution_count": null,
   "metadata": {
    "collapsed": true
   },
   "outputs": [],
   "source": [
    "function [c, ceq, gc, gceq] = dcon(x)\n",
    "\n",
    "c = [-6*x(1) - 2*x(2) - 4*x(3) + 12;\n",
    "    x(1) - 4*x(2) + 7*x(3) - 10];\n",
    "\n",
    "ceq = [];\n",
    "\n",
    "gc = [-6 1;\n",
    "     -2 -4;\n",
    "     -4 7];\n",
    "\n",
    "gceq = [];\n",
    "\n",
    "end\n"
   ]
  },
  {
   "cell_type": "markdown",
   "metadata": {},
   "source": [
    "Computing the deterministic optimum:"
   ]
  },
  {
   "cell_type": "code",
   "execution_count": 4,
   "metadata": {
    "collapsed": false
   },
   "outputs": [
    {
     "name": "stdout",
     "output_type": "stream",
     "text": [
      "                                            First-order      Norm of\n",
      " Iter F-count            f(x)  Feasibility   optimality         step\n",
      "    0       1    7.000000e+00    0.000e+00    1.193e+00\n",
      "    1       2    5.854459e+00    0.000e+00    3.361e+00    9.920e-01\n",
      "    2       3    5.746305e+00    0.000e+00    1.688e+00    7.306e-01\n",
      "    3       4    5.544435e+00    0.000e+00    9.873e-02    3.227e-01\n",
      "    4       5    5.388740e+00    0.000e+00    1.539e-01    8.590e-02\n",
      "    5       6    5.387544e+00    0.000e+00    3.961e-04    4.465e-03\n",
      "    6       7    5.386940e+00    0.000e+00    1.466e-04    6.772e-04\n",
      "    7       8    5.386939e+00    0.000e+00    2.000e-06    2.693e-06\n",
      "\n",
      "Local minimum found that satisfies the constraints.\n",
      "\n",
      "Optimization completed because the objective function is non-decreasing in \n",
      "feasible directions, to within the default value of the optimality tolerance,\n",
      "and constraints are satisfied to within the default value of the constraint tolerance.\n",
      "\n",
      "\n",
      "\n",
      "\n",
      "xopt =\n",
      "\n",
      "    0.7136\n",
      "    0.5628\n",
      "    1.6482\n",
      "\n",
      "\n",
      "fopt =\n",
      "\n",
      "    5.3869\n",
      "\n"
     ]
    }
   ],
   "source": [
    "lb = [-10; -10; -10];\n",
    "ub = [10; 10; 10];\n",
    "x0 = [1; 1; 1];\n",
    "\n",
    "options = optimoptions('fmincon', 'disp', 'iter',...\n",
    "    'SpecifyObjectiveGradient', true, ...\n",
    "    'SpecifyConstraintGradient',true);\n",
    "\n",
    "[xopt, fopt] = fmincon(@fun, x0, [], [], [], [], lb, ub, @dcon, options)"
   ]
  },
  {
   "cell_type": "markdown",
   "metadata": {},
   "source": [
    "Now, let's try to compute a reliable optimum.  First, we were given that each of the design variables is normally distributed with a standard deviation of 0.1.  Let's propagate that uncertainty using the simple  linear expansion method discussed in class (with no uncertain parameters in this case):\n",
    "\n",
    "$$\n",
    "\\sigma_c^2 = \\sum_{i=1}^n \\left(\\frac{\\partial c}{\\partial x_i} \\sigma_{x_i}\\right)^2 \n",
    "$$"
   ]
  },
  {
   "cell_type": "code",
   "execution_count": 5,
   "metadata": {
    "collapsed": false
   },
   "outputs": [
    {
     "name": "stdout",
     "output_type": "stream",
     "text": [
      "\n",
      "sigmac =\n",
      "\n",
      "    0.7483\n",
      "    0.8124\n",
      "\n"
     ]
    }
   ],
   "source": [
    "% standard deviation of each constraint (input)\n",
    "sigma = [0.1; 0.1; 0.1];  \n",
    "\n",
    "% compute gradient at our deterministic optimum\n",
    "[~, ~, gc, ~] = dcon(xopt);\n",
    "\n",
    "% initialize, separate sigma for each constraint\n",
    "sigmac = zeros(2, 1);\n",
    "\n",
    "% estimate transmitted variance\n",
    "for i = 1:2  % loop through each constraint\n",
    "    for j = 1:3  % loop through each design variable\n",
    "        sigmac(i) = sigmac(i) + (gc(j, i)*sigma(j))^2;\n",
    "    end\n",
    "end\n",
    "sigmac = sqrt(sigmac)"
   ]
  },
  {
   "cell_type": "markdown",
   "metadata": {},
   "source": [
    "Now, we were also given that we wanted to satisfy each constraint separately with a probability of 99.865%.  For a normal distribution we need to compute how many standard deviations that corresponds to (for a one-sided constraint).  We can do that either using an inverse CDF calculation."
   ]
  },
  {
   "cell_type": "code",
   "execution_count": 6,
   "metadata": {
    "collapsed": false
   },
   "outputs": [
    {
     "name": "stdout",
     "output_type": "stream",
     "text": [
      "\n",
      "k =\n",
      "\n",
      "    3.0000\n",
      "\n"
     ]
    }
   ],
   "source": [
    "k = norminv(0.99865)"
   ]
  },
  {
   "cell_type": "markdown",
   "metadata": {},
   "source": [
    "where we use the same k for both constraints (although in general we could use a different k for each constraint).  Now, we want to specify new constraints of the form:\n",
    "$$c(x) + k \\sigma_c \\le  0$$\n",
    "Our reliable constraint function is below"
   ]
  },
  {
   "cell_type": "code",
   "execution_count": 7,
   "metadata": {
    "collapsed": true
   },
   "outputs": [],
   "source": [
    "%load approx/rcon.m"
   ]
  },
  {
   "cell_type": "code",
   "execution_count": null,
   "metadata": {
    "collapsed": true
   },
   "outputs": [],
   "source": [
    "function [c, ceq, gc, gceq] = rcon(x, k, sigmac)\n",
    "\n",
    "% deterministic constraint\n",
    "c = [-6*x(1) - 2*x(2) - 4*x(3) + 12;\n",
    "    x(1) - 4*x(2) + 7*x(3) - 10];\n",
    "\n",
    "% add transmitted variance for a reliable constraint\n",
    "c = c + k*sigmac;\n",
    "\n",
    "ceq = [];\n",
    "\n",
    "gc = [-6 1;\n",
    "     -2 -4;\n",
    "     -4 7];\n",
    "\n",
    "gceq = [];\n",
    "\n",
    "end\n"
   ]
  },
  {
   "cell_type": "markdown",
   "metadata": {},
   "source": [
    "We need to wrap the rcon function so that it only takes in x before passing to fmincon."
   ]
  },
  {
   "cell_type": "code",
   "execution_count": 8,
   "metadata": {
    "collapsed": false
   },
   "outputs": [
    {
     "name": "stdout",
     "output_type": "stream",
     "text": [
      "                                            First-order      Norm of\n",
      " Iter F-count            f(x)  Feasibility   optimality         step\n",
      "    0       1    5.386939e+00    2.437e+00    9.646e-01\n",
      "    1       3    6.947600e+00    1.075e+00    1.406e+00    3.415e-01\n",
      "    2       4    8.906138e+00    0.000e+00    1.238e+00    5.155e-01\n",
      "    3       5    8.781377e+00    0.000e+00    4.527e-01    3.692e-01\n",
      "    4       6    8.598708e+00    0.000e+00    2.110e-02    5.385e-02\n",
      "    5       7    8.562647e+00    0.000e+00    2.863e-03    8.034e-03\n",
      "    6       8    8.562204e+00    0.000e+00    2.003e-04    4.962e-04\n",
      "    7       9    8.561807e+00    0.000e+00    2.023e-06    9.439e-05\n",
      "\n",
      "Local minimum found that satisfies the constraints.\n",
      "\n",
      "Optimization completed because the objective function is non-decreasing in \n",
      "feasible directions, to within the default value of the optimality tolerance,\n",
      "and constraints are satisfied to within the default value of the constraint tolerance.\n",
      "\n",
      "\n",
      "\n",
      "\n",
      "xoptR =\n",
      "\n",
      "    0.9986\n",
      "    1.0506\n",
      "    1.5381\n",
      "\n",
      "\n",
      "foptR =\n",
      "\n",
      "    8.5618\n",
      "\n"
     ]
    }
   ],
   "source": [
    "rconwrap = @(x) rcon(x, k, sigmac);  % we've already computed k and sigmac\n",
    "\n",
    "[xoptR, foptR] = fmincon(@fun, xopt, [], [], [], [], lb, ub, rconwrap, options)  % note starting at deterministic optimum to speed up convergence."
   ]
  },
  {
   "cell_type": "markdown",
   "metadata": {},
   "source": [
    "We've sacrificed some objective value in order to obtain a reliable solution.  Let's check the reliability of our deterministic solution using a Monte Carlo simulation."
   ]
  },
  {
   "cell_type": "code",
   "execution_count": 9,
   "metadata": {
    "collapsed": false
   },
   "outputs": [
    {
     "name": "stdout",
     "output_type": "stream",
     "text": [
      "\n",
      "reliability1 =\n",
      "\n",
      "    0.4986\n",
      "\n",
      "\n",
      "reliability2 =\n",
      "\n",
      "    0.5033\n",
      "\n"
     ]
    }
   ],
   "source": [
    "% number of samples\n",
    "N = 1e5;\n",
    "\n",
    "% random variables from normal distribution\n",
    "rv = randn(3, N);  \n",
    "\n",
    "% initialize \n",
    "c = zeros(2, N);  % constraint values (2 constraints, N samples)\n",
    "\n",
    "for i = 1:N\n",
    "\n",
    "    % sample random numbers from normal distribution about the deterministic optimum\n",
    "    xr = xopt + rv(:, i).*sigma;\n",
    "    [c(:, i), ~, ~, ~] = dcon(xr);\n",
    "    \n",
    "end\n",
    "\n",
    "reliability1 = nnz(c(1, :) < 0)/N\n",
    "reliability2 = nnz(c(2, :) < 0)/N\n"
   ]
  },
  {
   "cell_type": "markdown",
   "metadata": {},
   "source": [
    "Notice that it fails about 50% of the time!  Let's now check the reliability of our new solution."
   ]
  },
  {
   "cell_type": "code",
   "execution_count": 22,
   "metadata": {
    "collapsed": false
   },
   "outputs": [
    {
     "name": "stdout",
     "output_type": "stream",
     "text": [
      "\n",
      "reliability1 =\n",
      "\n",
      "    0.9986\n",
      "\n",
      "\n",
      "reliability2 =\n",
      "\n",
      "    0.9988\n",
      "\n"
     ]
    }
   ],
   "source": [
    "for i = 1:N\n",
    "\n",
    "    % sample random numbers from normal distribution about the reliable optimum\n",
    "    xr = xoptR + rv(:, i).*sigma;\n",
    "    \n",
    "    [c(:, i), ~, ~, ~] = dcon(xr);\n",
    "end\n",
    "\n",
    "reliability1 = nnz(c(1, :) < 0)/N\n",
    "reliability2 = nnz(c(2, :) < 0)/N"
   ]
  },
  {
   "cell_type": "markdown",
   "metadata": {},
   "source": [
    "The reliability is very close the our target of 99.86% for each constraint individually!"
   ]
  },
  {
   "cell_type": "code",
   "execution_count": null,
   "metadata": {
    "collapsed": true
   },
   "outputs": [],
   "source": []
  }
 ],
 "metadata": {
  "anaconda-cloud": {},
  "kernelspec": {
   "display_name": "Matlab",
   "language": "matlab",
   "name": "matlab"
  },
  "language_info": {
   "codemirror_mode": "octave",
   "file_extension": ".m",
   "help_links": [
    {
     "text": "MetaKernel Magics",
     "url": "https://github.com/calysto/metakernel/blob/master/metakernel/magics/README.md"
    }
   ],
   "mimetype": "text/x-matlab",
   "name": "matlab",
   "version": "0.11.0+12.g6d57d52"
  }
 },
 "nbformat": 4,
 "nbformat_minor": 2
}
