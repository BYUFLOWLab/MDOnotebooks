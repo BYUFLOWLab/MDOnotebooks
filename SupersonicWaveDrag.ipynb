{
 "cells": [
  {
   "cell_type": "markdown",
   "metadata": {},
   "source": [
    "# Drag Minimization of a Supersonic Body of Revolution Using Surrogate-Based Optimization\n",
    "\n",
    "\n",
    "In this problem we want to find the three-dimensional shape with the lowest supersonic wave drag for a fixed length and fixed maximum diameter.  This problem has a known solution called the [Sears-Haack body](http://en.wikipedia.org/wiki/Sears–Haack_body) (see below).  This solution is useful, for example, in supersonic aircraft design.  The goal is to design the aircraft with area distributions close to that of the Sears-Haack body.\n",
    "\n",
    "<img src=\"supersonic/Sears-Haack.png\" style=\"width: 400px;\"/>\n",
    "\n",
    "For this exercise, we assume that the solution is unknown, and use surrogate-based optimization to find the best design we can.  We parameterize the body of revolution as shown below, with six radii to optimize (the body has fore-aft symmetry, and the aft half is not shown). Points are clustered towards the nose where the shape changes rapidly.  The interior 6 points are bookended by a point at the nose with 0 radius so that the body is closed, and a point with a fixed radius of 5 so that the diameter of the body is constant (all dimensions are unitless in this problem).  An Akima spline is fit between the 8 points to define the full shape.  The length of the body is 100.  \n",
    "\n",
    "<img src=\"supersonic/searshaack.pdf\" style=\"width: 400px;\"/>\n",
    "\n",
    "My colleague Dev Rajnarayan has provided the code that will be used to analyze the wave drag of the supersonic body as a function of the six radii.  You will not have access to the source code, and the output has some \"discretization noise\", both of which simulate common real-life scenarios.  Think of this code as a computational fluid dynamics (CFD) simulation.  CFD is typically very timing consuming to run (the code in this exercise is quick) and unless you have access to the source to add analytic gradients, or gradients are already provided, then optimizing with CFD in the loop is usually too costly.  Because of a limited time budget we want to find a good solution with as few function calls as possible.  We may also want to explore variations in our design after finding the optimal solution.  These requirements make the problem a good candidate for a surrogate model.  We will construct a global polynomial surrogate model of the simulation and will optimize the surrogate rather than the actual function. \n",
    "\n",
    "The following write-up will guide you through the steps of the analysis, but you'll need to fill in some of the  details yourself.  This guide uses Matlab because the external code is written in Java and it's easier to interface with for this one-off analysis.\n",
    "\n",
    "First, clear everything and load the provided jar files (the external code)."
   ]
  },
  {
   "cell_type": "code",
   "execution_count": 11,
   "metadata": {
    "collapsed": false
   },
   "outputs": [],
   "source": [
    "clear; close all; clc; clear java;\n",
    "\n",
    "% Add jar files to java classpath\n",
    "javaaddpath({strcat(pwd,'/supersonic/me575hw6.jar'), strcat(pwd,'/supersonic/colt.jar')});\n",
    "wavedrag = @WaveDragAS.compute;  % rename function call for convenience\n",
    "\n",
    "% syntax: drag = wavedrag(x)  % where x is a vector of length six"
   ]
  },
  {
   "cell_type": "markdown",
   "metadata": {},
   "source": [
    "We define some reasonable bounds on the design variables:"
   ]
  },
  {
   "cell_type": "code",
   "execution_count": 8,
   "metadata": {
    "collapsed": true
   },
   "outputs": [],
   "source": [
    "% Lower bound\n",
    "lb = [0.05, 0.15, 0.65, 1.75, 3.00, 4.25];\n",
    "\n",
    "% Upper bound\n",
    "ub = [0.25, 0.40, 0.85, 2.25, 3.25, 4.75];"
   ]
  },
  {
   "cell_type": "markdown",
   "metadata": {},
   "source": [
    "We need to sample our function to construct the initial surrogate. We will use Latin Hypercube Sampling (LHS). Matlab has a function called `lhsdesign` which can do this for us. We are going to start with a really small number of function calls (20) in our 6-dimensional space, but you can adjust that number as you like. The lhsdesign call will return numbers between 0 and 1. We will want to scale those so that our numbers span lb to ub.\n",
    "\n",
    "$$x = lb+(ub−lb)x_{lhs}$$\n",
    "\n",
    "While we are at it we will evaluate our wave drag coefficient function at each of the sample points. Note\n",
    "that LHS is based on random number generation so you will get different sample points every time (unless you set the random number generator seed).\n"
   ]
  },
  {
   "cell_type": "code",
   "execution_count": 18,
   "metadata": {
    "collapsed": false
   },
   "outputs": [],
   "source": [
    "% Construct LHS Sample (use lhsdesign)\n",
    "M = 20;  % number of samples\n",
    "N = 6;  % number of design variables\n",
    "\n",
    "% in a loop, create the actual x using the equation above, and evaluate the function wave drag at each x value, and save in a vector called y.\n",
    "% y = "
   ]
  },
  {
   "cell_type": "markdown",
   "metadata": {},
   "source": [
    "We now need to decide what type of surrogate to construct.  For this exercise we will choose a polynomial model, and more specifically a quadratic model. (To do a better job we should do parameter studies where we vary the order of the model, try other surrogate models, and use cross-validation to select the model, but we will skip all of that to keep things simpler in this exercise.) There are 6 dimensions so our quadratic model will have 28 unknowns that we need to estimate.  The constant $c$ is 1 term, the linear term $l$ has 6 terms, and the quadratic term Q has $n(n+1)/2 = 21$ terms.\n",
    "\n",
    "$$\\text{drag} \\approx c + l^T x + x^T Q x$$\n",
    "\n",
    "Note that there are only 28 terms because we don't want to double count terms like $x_1 x_2$ and $x_2 x_1$, which are actually the same.  If we combine all the unknowns from $c$, $l$, and $Q$ into one unknown vector $w$, we can rewrite that same equation as:\n",
    "\n",
    "\\begin{align}\n",
    "  \\hat{f} &= w_1 + w_2 x_1 + w_3 x_2 + \\ldots + w_8 x_1^2 + w_9 x_1 x_2 + w_{10} x_1 x_3 + \\ldots + w_{28} x_6^2\\\\\n",
    "  \\hat{f} &= w^T x_{exp}\n",
    "\\end{align}\n",
    "\n",
    "The expanded x vector $x_{exp}$ is something we are going to need a few times so I've written a function called expandQuad.m that is provided.\n",
    "\n",
    "syntax: `x_exp = expandQuad(x)`"
   ]
  },
  {
   "cell_type": "markdown",
   "metadata": {},
   "source": [
    "We can now use our samples to perform a maximum likelihood estimate of $w$.  We will form a linear system\n",
    "\\begin{equation}\n",
    "\\left[\\begin{matrix} \n",
    "y_1 \\\\ y_2\\\\ \\vdots\\\\ y_M \n",
    "\\end{matrix}\\right]\n",
    "= \\left[\\begin{matrix}\n",
    "[1 & x_1 & x_2 & \\ldots & x_1^2 & x_1 x_2 &  x_1 x_3 & \\ldots & x_6^2]_{\\textrm{at sample 1}}\\\\\n",
    "[1 & x_1 & x_2 & \\ldots & x_1^2 & x_1 x_2 &  x_1 x_3 & \\ldots & x_6^2]_{\\textrm{at sample 2}}\\\\\n",
    "\\vdots\\\\\n",
    "[1 & x_1 & x_2 & \\ldots & x_1^2 & x_1 x_2 &  x_1 x_3 & \\ldots & x_6^2]_{\\textrm{at sample M}}\\\\\n",
    "\\end{matrix}\n",
    "\\right]\n",
    "\\left[\\begin{matrix} \n",
    "w_1 \\\\ w_2\\\\ w_3 \\\\\\vdots\\\\ w_{28} \n",
    "\\end{matrix}\\right]\n",
    "\\end{equation}\n",
    "Which can be expressed as $y = \\Phi w$ where $\\Phi$ is\n",
    "\\begin{equation}\n",
    "\\Phi = \\left[\\begin{matrix}\n",
    "{x_{exp}}_1\\\\\n",
    "{x_{exp}}_2\\\\\n",
    "\\vdots\\\\\n",
    "{x_{exp}}_M\\\\\n",
    "\\end{matrix}\\right]\n",
    "\\end{equation}\n",
    "\n",
    "We decided on the M $x_{exp}$ points from our sampling, evaluated our function to get the $y$'s, and the unknowns are the $w$'s.\n",
    "\n"
   ]
  },
  {
   "cell_type": "code",
   "execution_count": 17,
   "metadata": {
    "collapsed": false
   },
   "outputs": [],
   "source": [
    "% Create PHI (in a loop)\n",
    "PHI = zeros(M, 28);"
   ]
  },
  {
   "cell_type": "markdown",
   "metadata": {},
   "source": [
    "We can now estimate the w terms through a separate optimization process. In this case the optimization is easy because our parametrization is linear in w. The equation $y = \\Phi w$ does not have a unique solution, instead we are interested in a least-squares approximate solution (minimizing the sum of the squared errors between prediction and actual function values).  We now have $\\Phi$ and $y$ so we can use a least squares solution to find $w$."
   ]
  },
  {
   "cell_type": "code",
   "execution_count": 19,
   "metadata": {
    "collapsed": true
   },
   "outputs": [],
   "source": [
    "% Compute w from a least squares solution of Phi w = y \n"
   ]
  },
  {
   "cell_type": "markdown",
   "metadata": {},
   "source": [
    "We now have a surrogate model to compute the wave drag coefficient at any point (accuracy at any point is another question).  The estimate of the drag at any point $x$ using our surrogate quadratic model would simply be:\n",
    "\n",
    "\\begin{equation}\n",
    "  \\widehat{C_D} = x_{exp}^T w\n",
    "\\end{equation}\n",
    "\n",
    "or in code:\n",
    "\n",
    "`CDhat = expandQuad(x)*w;`"
   ]
  },
  {
   "cell_type": "markdown",
   "metadata": {},
   "source": [
    "With our surrogate model constructed we can now optimize the model directly to find a minimum drag design (according to the surrogate)."
   ]
  },
  {
   "cell_type": "code",
   "execution_count": null,
   "metadata": {
    "collapsed": true
   },
   "outputs": [],
   "source": [
    "% starting design\n",
    "x0 = [0.100,  0.198,  0.7,  1.800,  3.200,  4.550];\n",
    "J = @(x) expandQuad(x)*w;\n",
    "[xopt, fopt] = fmincon(J, x0, [], [], [], [], lb, ub);"
   ]
  },
  {
   "cell_type": "markdown",
   "metadata": {},
   "source": [
    "The resulting point will probably not be particularly accurate.  This is because we used an extremely small number of samples (20) to construct our initial surrogate in a 6-dimensional space, so we can't hope for high accuracy everywhere except near the sample points.  One strategy to improve this, is to sample more points initially to create a better global model.  This would be a good approach if wanted to explore global changes to the designs.  However, in this case we don't necessarily care about having an accurate model everywhere, but instead care about having an accurate model near the optimum.  We intentionally kept the initial sampling small because we are going to add our \"optimum\" solution to our sample, recreate the surrogate with the new point added, and then reoptimize using the new surrogate.  This should improve our surrogate near the actual optimum, and if we iterate a few times we should get a pretty good solution.  (Note: If we are not careful we could add points to our surrogate that are really close to points that our already there, which can cause numerical issues with our least squares solutions---but we won't worry about that in this example.)\n",
    "\n",
    "Fortunately, we also know exactly how far our surrogate is off by evaluating the actual function at the point in question.  Let's run our optimization until the optimal point has a predicted drag coefficient within 5% (arbitrarily chosen) of the actual drag coefficient.  We will see that even though the difference between our predicted function value $\\hat{f}(\\hat{x}^*)$ and the actual function value $f(\\hat{x}^*)$ may be off by as much as 5%, the difference between the actual function value $f(\\hat{x}^*)$ and the actual optimum $f^* = f(x^*)$ (which is what we actually care about) is smaller---usually less than 1%.  In addition to our error stopping criteria, we will limit the loop to 20 function calls at the most (generally the loop breaks after about 10).  "
   ]
  },
  {
   "cell_type": "code",
   "execution_count": null,
   "metadata": {
    "collapsed": true
   },
   "outputs": [],
   "source": [
    "% starting design\n",
    "x0 = [0.100,  0.198,  0.7,  1.800,  3.200,  4.550];\n",
    "\n",
    "for i = 1:20\n",
    "\n",
    "    % perform optimization using surrogate\n",
    "    \n",
    "    % compute the error in our surrogate prediction and decide whether or not to break\n",
    "    \n",
    "    % if not, add another row to sample data (add a row to PHI and a row to F)\n",
    "    % be sure to use the actual function value at xopt \n",
    "    % and not not the f from fmincon which is based on the surrogate\n",
    "    \n",
    "    % re-estimate the surrogate parameters (w)\n",
    "\n",
    "end"
   ]
  },
  {
   "cell_type": "markdown",
   "metadata": {},
   "source": [
    "We can use the optimal point of the previous solution as the starting point of the next iteration, but evaluating the surrogate is ridiculously cheap (just a vector-vector multiply) so it really doesn’t matter. We now have a pretty good solution to the minimum wave drag body of revolution and it should take around 30 function calls. By comparison, optimizing with the actual function takes 88 function calls for this same starting point, and the result is generally not a whole lot better:"
   ]
  },
  {
   "cell_type": "code",
   "execution_count": null,
   "metadata": {
    "collapsed": true
   },
   "outputs": [],
   "source": [
    "J = @(x) wavedrag(x);\n",
    "[xopt, fopt, exitflag, output] = fmincon(J, x0, [], [], [], [], lb, ub);\n",
    "disp(output.funcCount);\n",
    "\n",
    "% solution error\n",
    "CD_sol = wavedrag(xopt);\n",
    "fprintf('Optimization Error = %3.3g%%\\n', (factual - CD_sol)/CD_sol*100);  % factual comes from the SBO"
   ]
  },
  {
   "cell_type": "markdown",
   "metadata": {},
   "source": [
    "The error in using surrogate-based optimization (SBO) versus a full optimization in this problem is generally less than 1% (will vary randomly because of LHS) and takes about 1/3 as many function calls.\n",
    "\n",
    "We can also make some comparisons to the theoretical minimum because it is a known solution for this problem.  It is important to note that even optimizing with the actual function will not reach the theoretical minimum because of the discretization error (gets within 1.63\\%).  The theoretical minimum wave drag for a fixed length and diameter is:\n",
    "\n",
    "\\begin{equation}\n",
    "  {C_D}_{min} = \\frac{\\pi d}{l}^2\n",
    "\\end{equation}\n",
    "\n",
    "We can print out our error as compared to the theoretical minimum:"
   ]
  },
  {
   "cell_type": "code",
   "execution_count": null,
   "metadata": {
    "collapsed": true
   },
   "outputs": [],
   "source": [
    "% theoretical error \n",
    "d = 10; l = 100;\n",
    "CD_min = (pi*d/l)^2;\n",
    "fprintf('Theoretical Error = %3.3g%%\\n', (factual - CD_min)/CD_min*100);"
   ]
  },
  {
   "cell_type": "markdown",
   "metadata": {},
   "source": [
    "Finally, we can plot the difference in shapes between our SBO solution and the theoretical solution.  The difference should be extremely minimal.\n"
   ]
  },
  {
   "cell_type": "code",
   "execution_count": null,
   "metadata": {
    "collapsed": true
   },
   "outputs": [],
   "source": [
    "% --------------- Plot geometry ------------------------\n",
    "% SBO solution\n",
    "x = l*[0.0, 0.005, 0.01, 0.025, 0.1, 0.2, 0.35, 0.5, 0.65, 0.8, 0.9, 0.975, 0.99, 0.995, 1.0];\n",
    "r = [0 xopt 5 fliplr(xopt) 0];  % this must come from your SBO solution\n",
    "\n",
    "% theoretical optimal solution - Sears Haack\n",
    "xSH = .01:.01:1;\n",
    "rSH = d/2*sqrt(sqrt(1-xSH.^2)-xSH.^2.*log((1+sqrt(1-xSH.^2))./xSH));\n",
    "\n",
    "xSH = l/2*[-fliplr(xSH) xSH] + l/2;\n",
    "rSH = [fliplr(rSH) rSH];\n",
    "\n",
    "figure; hold on;\n",
    "h1 = plot(x,r,'b');\n",
    "plot(x,-r,'b');  \n",
    "h2 = plot(xSH,rSH,'r--');\n",
    "plot(xSH,-rSH,'r--');\n",
    "axis equal;\n",
    "legend([h1, h2], {'SBO','Sears-Haack'});\n",
    "% ----------------------------------------------------------"
   ]
  }
 ],
 "metadata": {
  "kernelspec": {
   "display_name": "Matlab",
   "language": "matlab",
   "name": "matlab"
  },
  "language_info": {
   "codemirror_mode": "octave",
   "file_extension": ".m",
   "help_links": [
    {
     "text": "MetaKernel Magics",
     "url": "https://github.com/calysto/metakernel/blob/master/metakernel/magics/README.md"
    }
   ],
   "mimetype": "text/x-matlab",
   "name": "matlab",
   "version": "0.8.0"
  }
 },
 "nbformat": 4,
 "nbformat_minor": 0
}
